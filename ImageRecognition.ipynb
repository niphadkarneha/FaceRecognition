{
  "nbformat": 4,
  "nbformat_minor": 0,
  "metadata": {
    "colab": {
      "name": "ImageRecognition.ipynb",
      "provenance": [],
      "private_outputs": true,
      "collapsed_sections": [],
      "include_colab_link": true
    },
    "kernelspec": {
      "name": "python3",
      "display_name": "Python 3"
    },
    "accelerator": "GPU"
  },
  "cells": [
    {
      "cell_type": "markdown",
      "metadata": {
        "id": "view-in-github",
        "colab_type": "text"
      },
      "source": [
        "<a href=\"https://colab.research.google.com/github/niphadkarneha/FaceRecognition/blob/master/ImageRecognition.ipynb\" target=\"_parent\"><img src=\"https://colab.research.google.com/assets/colab-badge.svg\" alt=\"Open In Colab\"/></a>"
      ]
    },
    {
      "cell_type": "code",
      "metadata": {
        "id": "hRlsG4ZynwNN",
        "colab_type": "code",
        "colab": {}
      },
      "source": [
        "pip install face_recognition"
      ],
      "execution_count": 0,
      "outputs": []
    },
    {
      "cell_type": "code",
      "metadata": {
        "id": "G3fohxQ8n2rz",
        "colab_type": "code",
        "colab": {}
      },
      "source": [
        "import face_recognition\n",
        "import numpy as np\n",
        "from PIL import Image, ImageDraw"
      ],
      "execution_count": 0,
      "outputs": []
    },
    {
      "cell_type": "code",
      "metadata": {
        "id": "yaVfceDWn_yL",
        "colab_type": "code",
        "colab": {}
      },
      "source": [
        "from google.colab import drive\n",
        "drive.mount('/content/drive')\n",
        "with open('/content/drive/My Drive/IR/foo.txt', 'w') as f:\n",
        "  f.write('Successfully mounted!')\n",
        "!cat /content/drive/My\\ Drive/IR/foo.txt"
      ],
      "execution_count": 0,
      "outputs": []
    },
    {
      "cell_type": "code",
      "metadata": {
        "id": "7Df0cTFMpZGx",
        "colab_type": "code",
        "colab": {}
      },
      "source": [
        "known_image = face_recognition.load_image_file(\"/content/drive/My Drive/IR/profile.jpg\")\n",
        "encoding = face_recognition.face_encodings(known_image)[0]"
      ],
      "execution_count": 0,
      "outputs": []
    },
    {
      "cell_type": "code",
      "metadata": {
        "id": "AA1wbzvuyuli",
        "colab_type": "code",
        "colab": {}
      },
      "source": [
        "unknown_image = face_recognition.load_image_file(\"/content/drive/My Drive/IR/neha.jpg\")"
      ],
      "execution_count": 0,
      "outputs": []
    },
    {
      "cell_type": "code",
      "metadata": {
        "id": "yI9gBA-5zobz",
        "colab_type": "code",
        "colab": {}
      },
      "source": [
        "pip install Pillow==5.3.0"
      ],
      "execution_count": 0,
      "outputs": []
    },
    {
      "cell_type": "code",
      "metadata": {
        "id": "mDCf_CZPplGX",
        "colab_type": "code",
        "colab": {}
      },
      "source": [
        "# Find all the faces and face encodings in the unknown image\n",
        "face_locations = face_recognition.face_locations(unknown_image)\n",
        "face_encodings = face_recognition.face_encodings(unknown_image, face_locations)\n",
        "\n",
        "# Convert the image to a PIL-format image so that we can draw on top of it with the Pillow library\n",
        "# See http://pillow.readthedocs.io/ for more about PIL/Pillow\n",
        "pil_image = Image.fromarray(unknown_image)\n",
        "\n",
        "# Create a Pillow ImageDraw Draw instance to draw with\n",
        "draw = ImageDraw.Draw(pil_image)\n",
        "\n",
        "# Loop through each face found in the unknown image\n",
        "for (top, right, bottom, left), face_encoding in zip(face_locations, face_encodings):\n",
        "\n",
        "    # See if the face is a match for the known face(s)\n",
        "    matches = face_recognition.compare_faces([encoding], face_encoding)\n",
        "\n",
        "    # Use the known face with the smallest distance to the new face\n",
        "    face_distances = face_recognition.face_distance([encoding], face_encoding)\n",
        "    best_match_index = np.argmin(face_distances)\n",
        "    if matches[best_match_index]:\n",
        "\n",
        "        # Draw a box around the face using the Pillow module\n",
        "        draw.rectangle(((left - 20, top - 20), (right + 20, bottom + 20)), outline=(0, 255, 0), width=20)\n",
        "\n",
        "# Remove the drawing library from memory as per the Pillow docs\n",
        "del draw\n",
        "\n",
        "# Saving the resulting image\n",
        "pil_image.save(\"/content/drive/My Drive/IR/result.jpg\")\n"
      ],
      "execution_count": 0,
      "outputs": []
    },
    {
      "cell_type": "code",
      "metadata": {
        "id": "EnJ1OLrI0R1c",
        "colab_type": "code",
        "colab": {}
      },
      "source": [
        "from IPython.display import Image, display\n",
        "display(Image('/content/drive/My Drive/IR/profile.jpg'))\n",
        "display(Image('/content/drive/My Drive/IR/result.jpg',width=500, height=500))"
      ],
      "execution_count": 0,
      "outputs": []
    },
    {
      "cell_type": "code",
      "metadata": {
        "id": "aA-WRBQPqj1x",
        "colab_type": "code",
        "colab": {}
      },
      "source": [
        "neha_image = face_recognition.load_image_file(\"/content/drive/My Drive/IR/profile.jpg\")\n",
        "neha_face_encoding = face_recognition.face_encodings(neha_image)[0]\n",
        "\n",
        "# Load a second sample picture and learn how to recognize it.\n",
        "ravim_image = face_recognition.load_image_file(\"/content/drive/My Drive/IR/ravi.png\")\n",
        "ravim_face_encoding = face_recognition.face_encodings(ravim_image)[0]\n",
        "\n",
        "# Create arrays of known face encodings and their names\n",
        "known_face_encodings = [\n",
        "    neha_face_encoding,\n",
        "    ravim_face_encoding\n",
        "]\n",
        "known_face_names = [\n",
        "    \"Neha Niphadkar\",\n",
        "    \"Ravi Mukkamala. Dept.Chair\"\n",
        "]\n",
        "\n",
        "# Load an image with an unknown face\n",
        "unknown_image = face_recognition.load_image_file(\"/content/drive/My Drive/IR/neha.jpg\")\n",
        "\n",
        "# Find all the faces and face encodings in the unknown image\n",
        "face_locations = face_recognition.face_locations(unknown_image)\n",
        "face_encodings = face_recognition.face_encodings(unknown_image, face_locations)\n",
        "\n",
        "# Convert the image to a PIL-format image so that we can draw on top of it with the Pillow library\n",
        "# See http://pillow.readthedocs.io/ for more about PIL/Pillow\n",
        "pil_image = Image.fromarray(unknown_image)\n",
        "# Create a Pillow ImageDraw Draw instance to draw with\n",
        "draw = ImageDraw.Draw(pil_image)\n",
        "\n",
        "# Loop through each face found in the unknown image\n",
        "for (top, right, bottom, left), face_encoding in zip(face_locations, face_encodings):\n",
        "    # See if the face is a match for the known face(s)\n",
        "    matches = face_recognition.compare_faces(known_face_encodings, face_encoding)\n",
        "\n",
        "    name = \"Unknown\"\n",
        "\n",
        "    # If a match was found in known_face_encodings, just use the first one.\n",
        "    # if True in matches:\n",
        "    #     first_match_index = matches.index(True)\n",
        "    #     name = known_face_names[first_match_index]\n",
        "\n",
        "    # Or instead, use the known face with the smallest distance to the new face\n",
        "    face_distances = face_recognition.face_distance(known_face_encodings, face_encoding)\n",
        "    best_match_index = np.argmin(face_distances)\n",
        "    if matches[best_match_index]:\n",
        "        name = known_face_names[best_match_index]\n",
        "\n",
        "    # Draw a box around the face using the Pillow module\n",
        "    draw.rectangle(((left, top), (right, bottom)), outline=(0, 0, 255))\n",
        "\n",
        "    # Draw a label with a name below the face\n",
        "    text_width, text_height = draw.textsize(name)\n",
        "    draw.rectangle(((left, bottom - text_height - 10), (right, bottom)), fill=(0, 0, 255), outline=(0, 0, 255))\n",
        "    draw.text((left + 6, bottom - text_height - 5), name, fill=(255, 255, 255, 255))\n",
        "\n",
        "\n",
        "# Remove the drawing library from memory as per the Pillow docs\n",
        "del draw\n",
        "\n",
        "# Display the resulting image\n",
        "pil_image.save(\"/content/drive/My Drive/IR/result_neha_ravim.jpg\")"
      ],
      "execution_count": 0,
      "outputs": []
    },
    {
      "cell_type": "code",
      "metadata": {
        "id": "A6GRp0NQtR-w",
        "colab_type": "code",
        "colab": {}
      },
      "source": [
        "from IPython.display import Image, display\n",
        "display(Image('/content/drive/My Drive/IR/profile.jpg'))\n",
        "display(Image('/content/drive/My Drive/IR/ravi.png'))\n",
        "display(Image('/content/drive/My Drive/IR/result_neha_ravim.jpg',width=500, height=500))"
      ],
      "execution_count": 0,
      "outputs": []
    },
    {
      "cell_type": "code",
      "metadata": {
        "id": "yrywhIEs07zM",
        "colab_type": "code",
        "colab": {}
      },
      "source": [
        ""
      ],
      "execution_count": 0,
      "outputs": []
    }
  ]
}